{
  "cells": [
    {
      "cell_type": "markdown",
      "metadata": {
        "id": "view-in-github",
        "colab_type": "text"
      },
      "source": [
        "<a href=\"https://colab.research.google.com/github/MarcoMinozzo/MarcoMinozzo/blob/main/consumer_behaviour.ipynb\" target=\"_parent\"><img src=\"https://colab.research.google.com/assets/colab-badge.svg\" alt=\"Open In Colab\"/></a>"
      ]
    },
    {
      "cell_type": "markdown",
      "source": [
        "## Predictive Model\n",
        "We are going to implement the first stage of this entire Digital Marketing process, which would be the construction of a predictive model."
      ],
      "metadata": {
        "id": "ko2H1qGwWVp2"
      }
    },
    {
      "cell_type": "code",
      "source": [
        "# Imports\n",
        "from pandas import Series, DataFrame\n",
        "import pandas as pd\n",
        "import numpy as np\n",
        "import os\n",
        "import matplotlib.pylab as plt\n",
        "from sklearn.model_selection import train_test_split\n",
        "from sklearn.naive_bayes import GaussianNB\n",
        "from sklearn.metrics import classification_report, confusion_matrix, accuracy_score"
      ],
      "metadata": {
        "id": "0DVt7jIFWrGW"
      },
      "execution_count": null,
      "outputs": []
    },
    {
      "cell_type": "markdown",
      "source": [
        "These lines import the libraries needed for data analysis and modeling. The imported libraries are:\n",
        "\n",
        "\n",
        "**Pandas**: for data manipulation and analysis.\n",
        "\n",
        "**numpy**: for numerical operations.\n",
        "\n",
        "**OS:** For operations related to the operating system.\n",
        "\n",
        "**matplotlib.pylab**: for data visualization.\n",
        "\n",
        "**scikit-learn:** for machine learning modeling and evaluation."
      ],
      "metadata": {
        "id": "41q_GpyEWyvl"
      }
    },
    {
      "cell_type": "code",
      "source": [
        " # Function to load data\n",
        "\n",
        "def load_data(file_path):\n",
        "    return pd.read_csv(file_path)"
      ],
      "metadata": {
        "id": "1OYxYc4QXrXY"
      },
      "execution_count": null,
      "outputs": []
    },
    {
      "cell_type": "markdown",
      "source": [
        "This function loads the data from a CSV file specified by the file path (file_path) and returns a pandas DataFrame."
      ],
      "metadata": {
        "id": "JZ7a2bwWiovv"
      }
    },
    {
      "cell_type": "code",
      "source": [
        "# Function to inspect data\n",
        "\n",
        "def inspect_data(data):\n",
        "     print(data.dtypes)\n",
        "     print(data.head())\n",
        "     print(data.describe())\n",
        "     print(data.corr()['BUY'])"
      ],
      "metadata": {
        "id": "YiqojZ98iqfd"
      },
      "execution_count": null,
      "outputs": []
    },
    {
      "cell_type": "markdown",
      "source": [
        "This function prints:\n",
        "\n",
        "The data types for each column (data.dtypes).\n",
        "\n",
        "The first five rows of the DataFrame (data.head()).\n",
        "\n",
        "A statistical summary of the data (data.describe()).\n",
        "\n",
        "The correlation of each column with the 'BUY' column (data.corr()['BUY'])."
      ],
      "metadata": {
        "id": "EjCVc3NPjBpj"
      }
    },
    {
      "cell_type": "code",
      "source": [
        "# Function to prepare data\n",
        "\n",
        "def prepare_data(data):\n",
        "# Correct the column name from 'Read_Reviews' to 'Read_Review'\n",
        "   predictors = data[['Read_Review', 'Compare_Products', 'Add_to_List', 'Save_for_Later',     'Personalized', 'View_Similar']]\n",
        "   targets = data. BUY\n",
        "   return train_test_split(predictors, targets, test_size=0.3)"
      ],
      "metadata": {
        "id": "C4JytS2QjP6k"
      },
      "execution_count": null,
      "outputs": []
    },
    {
      "cell_type": "markdown",
      "source": [
        "This function:\n",
        "\n",
        "Seleciona as colunas preditoras de interesse (Read_Review, Compare_Products, Add_to_List, Save_for_Later, Personalized, View_Similar).\n",
        "\n",
        "Define coluna alvo as BUY.\n",
        "\n",
        "Splits the data into training and test sets using train_test_split, where 30% of the data is used for testing (test_size=0.3)."
      ],
      "metadata": {
        "id": "0M-AvjwWjYM4"
      }
    },
    {
      "cell_type": "code",
      "source": [
        " # Function to train model\n",
        "\n",
        "def train_model(X_train, y_train):\n",
        "    model = GaussianNB()\n",
        "    model.fit(X_train, y_train)\n",
        "    return model"
      ],
      "metadata": {
        "id": "nRF_RNy0jht8"
      },
      "execution_count": null,
      "outputs": []
    },
    {
      "cell_type": "markdown",
      "source": [
        "This function:\n",
        "\n",
        "Create a Gaussian Naïve Bayes (GaussianNB) model.\n",
        "\n",
        "Trains the model with the training data (X_train and y_train).\n",
        "\n",
        "Returns the trained model."
      ],
      "metadata": {
        "id": "lSteb-SxjlfM"
      }
    },
    {
      "cell_type": "code",
      "source": [
        "# Function to evaluate model\n",
        "\n",
        "def evaluate_model(model, X_test, y_test):\n",
        "    predictions = model.predict(X_test)\n",
        "    print(confusion_matrix(y_test, predictions))\n",
        "    print(accuracy_score(y_test, predictions))\n",
        "    return model.predict_proba(X_test)"
      ],
      "metadata": {
        "id": "Bqviy1zUjqrm"
      },
      "execution_count": null,
      "outputs": []
    },
    {
      "cell_type": "markdown",
      "source": [
        "This function:\n",
        "\n",
        "Uses the model to make predictions on the test set (X_test).\n",
        "\n",
        "Imprime a matriz de confusão (confusion_matrix) e a precisão do modelo (accuracy_score).\n",
        "\n",
        "Returns the predictive probabilities for the test set (model.predict_proba(X_test))."
      ],
      "metadata": {
        "id": "F96CMks5jvDt"
      }
    },
    {
      "cell_type": "code",
      "source": [
        "# Function to predict propensity\n",
        "\n",
        "def predict_propensity(model, data):\n",
        "    data = np.array(data).reshape(1, -1)\n",
        "    return model.predict_proba(data)[:,1]"
      ],
      "metadata": {
        "id": "Fusach1bj0M_"
      },
      "execution_count": null,
      "outputs": []
    },
    {
      "cell_type": "markdown",
      "source": [
        "This function:\n",
        "\n",
        "Converts the input data to a numpy array and adjusts the shape to be used in the model.\n",
        "\n",
        "Returns the probability of propensity predicted by the model."
      ],
      "metadata": {
        "id": "xgu_RPkLj8nh"
      }
    },
    {
      "cell_type": "code",
      "source": [
        "# Execution Pipeline\n",
        "\n",
        "file_path = \"/…/market_app_correlated.csv\"\n",
        "prospect_data = load_data(file_path)\n",
        "inspect_data(prosptect_data)\n",
        "X_train, X_test, y_train, y_test = prepare_data(prospect_data)\n",
        "model = train_model(X_train, y_train)\n",
        "probabilities = evaluate_model(model, X_test, y_test)"
      ],
      "metadata": {
        "id": "KbwSYYUckB_T"
      },
      "execution_count": null,
      "outputs": []
    },
    {
      "cell_type": "markdown",
      "source": [
        "These lines:\n",
        "\n",
        "Set the path of the CSV file.\n",
        "\n",
        "Load the data from the CSV.\n",
        "\n",
        "They inspect the uploaded data.\n",
        "\n",
        "Prepare the data for training and testing.\n",
        "\n",
        "They train the model with the training data.\n",
        "\n",
        "Evaluate the model with the test data."
      ],
      "metadata": {
        "id": "-TYlkPDekM62"
      }
    },
    {
      "cell_type": "markdown",
      "source": [
        "# **Now let's do some simulations**:\n",
        "Predict propensity for new browsing data"
      ],
      "metadata": {
        "id": "GOhlAUj1kWH5"
      }
    },
    {
      "cell_type": "code",
      "source": [
        "new_browsing_data = [0, 0, 0, 0, 0, 0]\n",
        "print(\"New User: propensity:\", predict_propensity(model, new_browsing_data))"
      ],
      "metadata": {
        "id": "NyQbCf6XkZ_b"
      },
      "execution_count": null,
      "outputs": []
    },
    {
      "cell_type": "markdown",
      "source": [
        "# Result:"
      ],
      "metadata": {
        "id": "S58sYA5aki7Y"
      }
    },
    {
      "cell_type": "code",
      "source": [
        " New User: propensity: [0.19087601]"
      ],
      "metadata": {
        "id": "y-XlhhIMkmfi"
      },
      "execution_count": null,
      "outputs": []
    },
    {
      "cell_type": "markdown",
      "source": [
        "That is, simply by entering and logging in to the website or application, the chance of buying that user is close to **19%.**\n",
        "## Predict propensity after adding to list"
      ],
      "metadata": {
        "id": "KT6GpHjSkuCH"
      }
    },
    {
      "cell_type": "code",
      "source": [
        "add_to_list_data = [1, 1, 1, 0, 0, 0]\n",
        "print(\"After Add_to_List: propensity:\", predict_propensity(model, add_to_list_data))"
      ],
      "metadata": {
        "id": "6KKPeJp6ltzp"
      },
      "execution_count": null,
      "outputs": []
    },
    {
      "cell_type": "markdown",
      "source": [
        "# Result:"
      ],
      "metadata": {
        "id": "fPORStdgl1Sz"
      }
    },
    {
      "cell_type": "code",
      "source": [
        "Full Interaction: propensity: [0.80887743]"
      ],
      "metadata": {
        "id": "12x6mMaKl6kH"
      },
      "execution_count": null,
      "outputs": []
    },
    {
      "cell_type": "markdown",
      "source": [
        "For those users who have made all possible interactions, the chance of purchase rises to about** 81%.**\n",
        "To wrap up this comprehensive exploration of consumer behavior analytics and its implementation within a large marketplace, it is evident that leveraging data science and machine learning can significantly enhance our understanding of consumer actions and preferences. By systematically collecting and analyzing user interaction data, we can predict purchasing behaviors with remarkable accuracy, enabling the creation of targeted marketing strategies that boost engagement and conversion rates. This case study not only demonstrates the practical application of these techniques but also underscores their potential to drive substantial business growth and competitive advantage in the dynamic landscape of e-commerce."
      ],
      "metadata": {
        "id": "hofwCiCXl-NZ"
      }
    }
  ],
  "metadata": {
    "colab": {
      "provenance": [],
      "include_colab_link": true
    },
    "kernelspec": {
      "display_name": "Python 3",
      "name": "python3"
    }
  },
  "nbformat": 4,
  "nbformat_minor": 0
}
