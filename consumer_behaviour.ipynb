{
 "cells": [
  {
   "cell_type": "markdown",
   "id": "7f15b6e5",
   "metadata": {},
   "source": [
    "# Predictive Model\n",
    "\n",
    "We are going to implement the first stage of this entire Digital Marketing process, which would be the construction of a predictive model.\n"
   ]
  },
  {
   "cell_type": "code",
   "execution_count": null,
   "id": "029616c9",
   "metadata": {},
   "outputs": [],
   "source": [
    "from pandas import Series, DataFrame\n",
    "import pandas as pd\n",
    "import numpy as np\n",
    "import os\n",
    "import matplotlib.pylab as plt\n",
    "from sklearn.model_selection import train_test_split\n",
    "from sklearn.naive_bayes import GaussianNB\n",
    "from sklearn.metrics import classification_report, confusion_matrix, accuracy_score\n"
   ]
  },
  {
   "cell_type": "markdown",
   "id": "c0dedeff",
   "metadata": {},
   "source": [
    "These lines import the libraries needed for data analysis and modeling. The imported libraries are:\n",
    "- **Pandas**: for data manipulation and analysis.\n",
    "- **numpy**: for numerical operations.\n",
    "- **OS**: For operations related to the operating system.\n",
    "- **matplotlib.pylab**: for data visualization.\n",
    "- **scikit-learn**: for machine learning modeling and evaluation.\n"
   ]
  },
  {
   "cell_type": "markdown",
   "id": "244e67ff",
   "metadata": {},
   "source": [
    "## Function to Load Data\n",
    "\n",
    "This function loads the data from a CSV file specified by the file path (`file_path`) and returns a pandas DataFrame.\n"
   ]
  },
  {
   "cell_type": "code",
   "execution_count": null,
   "id": "49d96c47",
   "metadata": {},
   "outputs": [],
   "source": [
    "def load_data(file_path):\n",
    "    return pd.read_csv(file_path)\n"
   ]
  },
  {
   "cell_type": "markdown",
   "id": "cf575e6c",
   "metadata": {},
   "source": [
    "## Function to Inspect Data\n",
    "\n",
    "This function prints:\n",
    "- The data types for each column.\n",
    "- The first five rows of the DataFrame.\n",
    "- A statistical summary of the data.\n",
    "- The correlation of each column with the 'BUY' column.\n"
   ]
  },
  {
   "cell_type": "code",
   "execution_count": null,
   "id": "cf054983",
   "metadata": {},
   "outputs": [],
   "source": [
    "def inspect_data(data):\n",
    "    print(data.dtypes)\n",
    "    print(data.head())\n",
    "    print(data.describe())\n",
    "    print(data.corr()['BUY'])\n"
   ]
  },
  {
   "cell_type": "markdown",
   "id": "82e062a3",
   "metadata": {},
   "source": [
    "## Function to Prepare Data\n",
    "\n",
    "This function selects the predictor columns of interest, sets the target column, and splits the data into training and test sets using `train_test_split`, where 30% of the data is used for testing.\n"
   ]
  },
  {
   "cell_type": "code",
   "execution_count": null,
   "id": "a0874378",
   "metadata": {},
   "outputs": [],
   "source": [
    "def prepare_data(data):\n",
    "    predictors = data[['Read_Review', 'Compare_Products', 'Add_to_List', 'Save_for_Later', 'Personalized', 'View_Similar']]\n",
    "    targets = data.BUY\n",
    "    return train_test_split(predictors, targets, test_size=0.3)\n"
   ]
  },
  {
   "cell_type": "markdown",
   "id": "9c7bbe2d",
   "metadata": {},
   "source": [
    "## Function to Train Model\n",
    "\n",
    "This function:\n",
    "- Creates a Gaussian Naïve Bayes (GaussianNB) model.\n",
    "- Trains the model with the training data.\n",
    "- Returns the trained model.\n"
   ]
  },
  {
   "cell_type": "code",
   "execution_count": null,
   "id": "56142d3e",
   "metadata": {},
   "outputs": [],
   "source": [
    "def train_model(X_train, y_train):\n",
    "    model = GaussianNB()\n",
    "    model.fit(X_train, y_train)\n",
    "    return model\n"
   ]
  },
  {
   "cell_type": "markdown",
   "id": "bd07b333",
   "metadata": {},
   "source": [
    "## Function to Evaluate Model\n",
    "\n",
    "This function uses the model to make predictions on the test set and prints the confusion matrix and the accuracy score. It returns the predictive probabilities for the test set.\n"
   ]
  },
  {
   "cell_type": "code",
   "execution_count": null,
   "id": "1a72de60",
   "metadata": {},
   "outputs": [],
   "source": [
    "def evaluate_model(model, X_test, y_test):\n",
    "    predictions = model.predict(X_test)\n",
    "    print(confusion_matrix(y_test, predictions))\n",
    "    print(accuracy_score(y_test, predictions))\n",
    "    return model.predict_proba(X_test)\n"
   ]
  },
  {
   "cell_type": "markdown",
   "id": "4da4e0f3",
   "metadata": {},
   "source": [
    "## Function to Predict Propensity\n",
    "\n",
    "This function converts the input data to a numpy array, adjusts the shape for the model, and returns the probability of propensity predicted by the model.\n"
   ]
  },
  {
   "cell_type": "code",
   "execution_count": null,
   "id": "eca1c8b7",
   "metadata": {},
   "outputs": [],
   "source": [
    "def predict_propensity(model, data):\n",
    "    data = np.array(data).reshape(1, -1)\n",
    "    return model.predict_proba(data)[:,1]\n"
   ]
  },
  {
   "cell_type": "markdown",
   "id": "6291ab52",
   "metadata": {},
   "source": [
    "## Execution Pipeline\n",
    "\n",
    "Setting the path of the CSV file, loading the data, inspecting, preparing for training and testing, training the model, and evaluating it.\n"
   ]
  },
  {
   "cell_type": "code",
   "execution_count": null,
   "id": "935e4263",
   "metadata": {},
   "outputs": [],
   "source": [
    "file_path = \"/path/to/market_app_correlated.csv\"\n",
    "prospect_data = load_data(file_path)\n",
    "inspect_data(prospect_data)\n",
    "X_train, X_test, y_train, y_test = prepare_data(prospect_data)\n",
    "model = train_model(X_train, y_train)\n",
    "probabilities = evaluate_model(model, X_test, y_test)\n"
   ]
  }
 ],
 "metadata": {},
 "nbformat": 4,
 "nbformat_minor": 5
}
